{
  "nbformat": 4,
  "nbformat_minor": 0,
  "metadata": {
    "colab": {
      "provenance": [],
      "collapsed_sections": [],
      "toc_visible": true,
      "authorship_tag": "ABX9TyOF9FnJrHWNILgoaYsW7UGr",
      "include_colab_link": true
    },
    "kernelspec": {
      "name": "python3",
      "display_name": "Python 3"
    },
    "language_info": {
      "name": "python"
    }
  },
  "cells": [
    {
      "cell_type": "markdown",
      "metadata": {
        "id": "view-in-github",
        "colab_type": "text"
      },
      "source": [
        "<a href=\"https://colab.research.google.com/github/MHan3n/Psych-Han/blob/main/2022Face_recognitionMNE_Hw1.ipynb\" target=\"_parent\"><img src=\"https://colab.research.google.com/assets/colab-badge.svg\" alt=\"Open In Colab\"/></a>"
      ]
    },
    {
      "cell_type": "code",
      "execution_count": 1,
      "metadata": {
        "colab": {
          "base_uri": "https://localhost:8080/"
        },
        "id": "to13hu3aG9WY",
        "outputId": "46f4540f-5238-4207-f941-c7aa080cfd77"
      },
      "outputs": [
        {
          "output_type": "stream",
          "name": "stdout",
          "text": [
            "Looking in indexes: https://pypi.org/simple, https://us-python.pkg.dev/colab-wheels/public/simple/\n",
            "Collecting mne\n",
            "  Downloading mne-1.2.0-py3-none-any.whl (7.6 MB)\n",
            "\u001b[K     |████████████████████████████████| 7.6 MB 29.7 MB/s \n",
            "\u001b[?25hRequirement already satisfied: numpy>=1.15.4 in /usr/local/lib/python3.7/dist-packages (from mne) (1.21.6)\n",
            "Requirement already satisfied: tqdm in /usr/local/lib/python3.7/dist-packages (from mne) (4.64.1)\n",
            "Requirement already satisfied: pooch>=1.5 in /usr/local/lib/python3.7/dist-packages (from mne) (1.6.0)\n",
            "Requirement already satisfied: packaging in /usr/local/lib/python3.7/dist-packages (from mne) (21.3)\n",
            "Requirement already satisfied: jinja2 in /usr/local/lib/python3.7/dist-packages (from mne) (2.11.3)\n",
            "Requirement already satisfied: matplotlib in /usr/local/lib/python3.7/dist-packages (from mne) (3.2.2)\n",
            "Requirement already satisfied: scipy>=1.1.0 in /usr/local/lib/python3.7/dist-packages (from mne) (1.7.3)\n",
            "Requirement already satisfied: decorator in /usr/local/lib/python3.7/dist-packages (from mne) (4.4.2)\n",
            "Requirement already satisfied: appdirs>=1.3.0 in /usr/local/lib/python3.7/dist-packages (from pooch>=1.5->mne) (1.4.4)\n",
            "Requirement already satisfied: requests>=2.19.0 in /usr/local/lib/python3.7/dist-packages (from pooch>=1.5->mne) (2.23.0)\n",
            "Requirement already satisfied: pyparsing!=3.0.5,>=2.0.2 in /usr/local/lib/python3.7/dist-packages (from packaging->mne) (3.0.9)\n",
            "Requirement already satisfied: urllib3!=1.25.0,!=1.25.1,<1.26,>=1.21.1 in /usr/local/lib/python3.7/dist-packages (from requests>=2.19.0->pooch>=1.5->mne) (1.24.3)\n",
            "Requirement already satisfied: certifi>=2017.4.17 in /usr/local/lib/python3.7/dist-packages (from requests>=2.19.0->pooch>=1.5->mne) (2022.9.24)\n",
            "Requirement already satisfied: chardet<4,>=3.0.2 in /usr/local/lib/python3.7/dist-packages (from requests>=2.19.0->pooch>=1.5->mne) (3.0.4)\n",
            "Requirement already satisfied: idna<3,>=2.5 in /usr/local/lib/python3.7/dist-packages (from requests>=2.19.0->pooch>=1.5->mne) (2.10)\n",
            "Requirement already satisfied: MarkupSafe>=0.23 in /usr/local/lib/python3.7/dist-packages (from jinja2->mne) (2.0.1)\n",
            "Requirement already satisfied: python-dateutil>=2.1 in /usr/local/lib/python3.7/dist-packages (from matplotlib->mne) (2.8.2)\n",
            "Requirement already satisfied: kiwisolver>=1.0.1 in /usr/local/lib/python3.7/dist-packages (from matplotlib->mne) (1.4.4)\n",
            "Requirement already satisfied: cycler>=0.10 in /usr/local/lib/python3.7/dist-packages (from matplotlib->mne) (0.11.0)\n",
            "Requirement already satisfied: typing-extensions in /usr/local/lib/python3.7/dist-packages (from kiwisolver>=1.0.1->matplotlib->mne) (4.1.1)\n",
            "Requirement already satisfied: six>=1.5 in /usr/local/lib/python3.7/dist-packages (from python-dateutil>=2.1->matplotlib->mne) (1.15.0)\n",
            "Installing collected packages: mne\n",
            "Successfully installed mne-1.2.0\n"
          ]
        }
      ],
      "source": [
        "!pip install mne"
      ]
    },
    {
      "cell_type": "code",
      "source": [
        "from google.colab import drive\n",
        "drive.mount('/content/drive')"
      ],
      "metadata": {
        "colab": {
          "base_uri": "https://localhost:8080/"
        },
        "id": "HfOw2j4WPgRi",
        "outputId": "5d7f04af-d89a-426d-95a0-112934ec9825"
      },
      "execution_count": 2,
      "outputs": [
        {
          "output_type": "stream",
          "name": "stdout",
          "text": [
            "Mounted at /content/drive\n"
          ]
        }
      ]
    },
    {
      "cell_type": "code",
      "source": [
        "from sklearn.pipeline import make_pipeline\n",
        "from sklearn.preprocessing import StandardScaler\n",
        "from sklearn.linear_model import LogisticRegression\n",
        "from sklearn.svm import SVC\n",
        "\n",
        "import mne\n",
        "from mne.decoding import (SlidingEstimator, GeneralizingEstimator, Scaler,\n",
        "                          cross_val_multiscore, LinearModel, get_coef,\n",
        "                          Vectorizer, CSP)\n",
        "data_path = '/content/E:/NCU/deco_neu/NeuroDecoding2022'\n",
        "meg_path = data_path + '/MEG'\n",
        "raw_fname = meg_path + '/derivatives_meg_derivatives_sub-14_ses-meg_meg_sub-14_ses-meg_task-facerecognition_run-01_proc-sss_meg.fif'\n",
        "raw = mne.io.read_raw_fif(raw_fname)\n",
        "\n",
        "raw.load_data().pick_types(meg=True, stim=True).filter(0, 100, phase= 'zero-double').resample(500)\n",
        "print(raw)"
      ],
      "metadata": {
        "id": "L_I9hYMwQoh0"
      },
      "execution_count": null,
      "outputs": []
    },
    {
      "cell_type": "code",
      "source": [
        "events = mne.find_events(raw, stim_channel='STI101')  #just checking what stim_channel documenting what.\n",
        "event_id = {'Famous/1st': 5, 'Famous/2nd_lag0': 6, 'Famous/2nd_lagN': 7,\n",
        "           'Scrambled/1st': 17, 'Scrambled/2nd_lag0': 18, 'Scrambled/2nd_lagN': 19,\n",
        "           'Unfamiliar/1st': 13, 'Unfamiliar/2nd_lag0': 14, 'Unfamiliar/2nd_lagN': 15}  \n",
        "\n",
        "tmin = -0.1         \t\t\t\t\t\t\t\t# pre stimulis interval (in seconds) #\n",
        "tmax = 1.0          \t\t\t\t\t\t\t\t# post stimulus interval #\n",
        "\n",
        "#min:(pre onset 0.1), max: (1 sec after onset.)\n",
        "# if want to see n1, then 0.5sec is enough, but if want to see else then need longer.\n",
        "\n",
        "#picks = mne.pick_types(raw.info, eeg= False, stim = False)\n",
        "#if true then all channel kept. \n",
        "#if only want certain kind of then use mag, grad, planar1, planar2…etc. exclude = [] can exclude specific channels.\n",
        "#btw, pilot run found that 跑完reject發現eeg被丟掉的多，乾脆eeg都丟掉了。\n",
        "\n",
        "#then do artifact rejection.\n",
        "baseline = (None, 0)  # tmin ~ 0 , -0.1s-0s   \n",
        "reject = dict(grad=4000e-13, # T / m (gradiometers)\n",
        "              mag=5e-12, # T (magnetometers)\n",
        "              )\n",
        "epoch_run1 = mne.Epochs(raw, events, event_id, tmin, tmax,\n",
        "                    baseline=baseline,\n",
        "                    reject = reject, preload = True)"
      ],
      "metadata": {
        "id": "stvNbwpaTSMy"
      },
      "execution_count": null,
      "outputs": []
    },
    {
      "cell_type": "code",
      "source": [
        "epoch_run1"
      ],
      "metadata": {
        "id": "NFUZM9h9VpNG"
      },
      "execution_count": null,
      "outputs": []
    },
    {
      "cell_type": "code",
      "source": [
        "evoked_1 = epoch_run1['Famous'].average()\n",
        "evoked_2 = epoch_run1['Scrambled'].average()\n",
        "evoked_3 = epoch_run1['Unfamiliar'].average()\n",
        "\n",
        "evoked_1.comment = 'Famous'\n",
        "evoked_2.comment = 'Scrambled'\n",
        "evoked_3.comment = 'Unfamiliar'"
      ],
      "metadata": {
        "id": "4gxsZ_tIYxuK"
      },
      "execution_count": null,
      "outputs": []
    },
    {
      "cell_type": "code",
      "source": [
        "tmp = [evoked_1, evoked_2, evoked_3]\n",
        "colors = 'red', 'blue', 'green'\n",
        "mne.viz.plot_evoked_topo(tmp, color = colors)"
      ],
      "metadata": {
        "id": "wZ4xa5crY92s"
      },
      "execution_count": null,
      "outputs": []
    },
    {
      "cell_type": "code",
      "source": [
        "raw_fname = meg_path + '/derivatives_meg_derivatives_sub-14_ses-meg_meg_sub-14_ses-meg_task-facerecognition_run-02_proc-sss_meg.fif'\n",
        "\n",
        "raw = mne.io.read_raw_fif(raw_fname)\n",
        "events = mne.find_events(raw, stim_channel='STI101')  #just checking what stim_channel documenting what.\n",
        "#events = mne.find_events(raw, stim_channel='STI101', min_duration = 10 / raw.info['sfreq'])  #just checking what stim_channel documenting what.\n",
        "\n",
        "raw.load_data().pick_types(meg=True, stim=True).filter(0, 100, phase= 'zero-double').resample(500)\n",
        "epoch_run2 = mne.Epochs(raw, events, event_id, tmin, tmax,\n",
        "                    baseline=baseline,\n",
        "                    reject = reject, preload = True)\n",
        "\n",
        "print(epoch_run2)\n",
        "print(epoch_run1)"
      ],
      "metadata": {
        "id": "WpfI5oE9ZDEn"
      },
      "execution_count": null,
      "outputs": []
    },
    {
      "cell_type": "code",
      "source": [
        "events = mne.find_events(raw, stim_channel='STI101', min_duration = 2 / raw.info['sfreq'])  #just checking what stim_channel documenting what."
      ],
      "metadata": {
        "id": "36RlpdVxa1zT"
      },
      "execution_count": null,
      "outputs": []
    },
    {
      "cell_type": "code",
      "source": [
        "epochs_merge = mne.concatenate_epochs([epoch_run1, epoch_run2])\n",
        "print(epochs_merge)"
      ],
      "metadata": {
        "id": "xP1xoEfpbkgI"
      },
      "execution_count": null,
      "outputs": []
    },
    {
      "cell_type": "code",
      "source": [
        "evoked_1m = epochs_merge['Famous'].average()\n",
        "evoked_2m = epochs_merge['Scrambled'].average()\n",
        "evoked_3m = epochs_merge['Unfamiliar'].average()\n",
        "\n",
        "evoked_1m.comment = 'Famous'\n",
        "evoked_2m.comment = 'Scrambled'\n",
        "evoked_3m.comment = 'Unfamiliar'\n",
        "\n",
        "tmp = [evoked_1m, evoked_2m, evoked_3m]\n",
        "colors = 'red', 'blue', 'green'\n",
        "mne.viz.plot_evoked_topo(tmp, color = colors)"
      ],
      "metadata": {
        "id": "NI6zAD-QboVs"
      },
      "execution_count": null,
      "outputs": []
    },
    {
      "cell_type": "code",
      "source": [
        "raw_fname = meg_path + '/derivatives_meg_derivatives_sub-14_ses-meg_meg_sub-14_ses-meg_task-facerecognition_run-03_proc-sss_meg.fif'\n",
        "\n",
        "raw = mne.io.read_raw_fif(raw_fname)\n",
        "events = mne.find_events(raw, stim_channel='STI101')  #just checking what stim_channel documenting what.\n",
        "#events = mne.find_events(raw, stim_channel='STI101', min_duration = 10 / raw.info['sfreq'])  #just checking what stim_channel documenting what.\n",
        "\n",
        "raw.load_data().pick_types(meg=True, stim=True).filter(0, 100, phase= 'zero-double').resample(500)\n",
        "epoch_run2 = mne.Epochs(raw, events, event_id, tmin, tmax,\n",
        "                    baseline=baseline,\n",
        "                    reject = reject, preload = True)\n",
        "print(epoch_run3)\n",
        "print(epoch_run2)\n",
        "print(epoch_run1)"
      ],
      "metadata": {
        "id": "Os8kQm-IgHwC"
      },
      "execution_count": null,
      "outputs": []
    },
    {
      "cell_type": "code",
      "source": [
        "events = mne.find_events(raw, stim_channel='STI101', min_duration = 2 / raw.info['sfreq'])  #just checking what stim_channel documenting what."
      ],
      "metadata": {
        "id": "_ZX2FgbugHg-"
      },
      "execution_count": null,
      "outputs": []
    },
    {
      "cell_type": "code",
      "source": [
        "epochs_merge = mne.concatenate_epochs([epoch_run1, epoch_run2, epoch_run3])\n",
        "print(epochs_merge)"
      ],
      "metadata": {
        "id": "3fiYM3PNgxyS"
      },
      "execution_count": null,
      "outputs": []
    },
    {
      "cell_type": "code",
      "source": [
        "evoked_1m = epochs_merge['Famous'].average()\n",
        "evoked_2m = epochs_merge['Scrambled'].average()\n",
        "evoked_3m = epochs_merge['Unfamiliar'].average()\n",
        "\n",
        "evoked_1m.comment = 'Famous'\n",
        "evoked_2m.comment = 'Scrambled'\n",
        "evoked_3m.comment = 'Unfamiliar'\n",
        "\n",
        "tmp = [evoked_1m, evoked_2m, evoked_3m]\n",
        "colors = 'red', 'blue', 'green'\n",
        "mne.viz.plot_evoked_topo(tmp, color = colors)"
      ],
      "metadata": {
        "id": "oRUiIR7Yg5tL"
      },
      "execution_count": null,
      "outputs": []
    },
    {
      "cell_type": "code",
      "source": [
        "raw_fname = meg_path + '/derivatives_meg_derivatives_sub-14_ses-meg_meg_sub-14_ses-meg_task-facerecognition_run-04_proc-sss_meg.fif'\n",
        "\n",
        "raw = mne.io.read_raw_fif(raw_fname)\n",
        "events = mne.find_events(raw, stim_channel='STI101')  #just checking what stim_channel documenting what.\n",
        "#events = mne.find_events(raw, stim_channel='STI101', min_duration = 10 / raw.info['sfreq'])  #just checking what stim_channel documenting what.\n",
        "\n",
        "raw.load_data().pick_types(meg=True, stim=True).filter(0, 100, phase= 'zero-double').resample(500)\n",
        "epoch_run2 = mne.Epochs(raw, events, event_id, tmin, tmax,\n",
        "                    baseline=baseline,\n",
        "                    reject = reject, preload = True)\n",
        "print(epoch_run4)\n",
        "print(epoch_run3)\n",
        "print(epoch_run2)\n",
        "print(epoch_run1)"
      ],
      "metadata": {
        "id": "queqEwbihCVg"
      },
      "execution_count": null,
      "outputs": []
    },
    {
      "cell_type": "code",
      "source": [
        "events = mne.find_events(raw, stim_channel='STI101', min_duration = 2 / raw.info['sfreq'])  #just checking what stim_channel documenting what."
      ],
      "metadata": {
        "id": "N009VThXhtrA"
      },
      "execution_count": null,
      "outputs": []
    },
    {
      "cell_type": "code",
      "source": [
        "epochs_merge = mne.concatenate_epochs([epoch_run1, epoch_run2, epoch_run3.epoch_run4])\n",
        "print(epochs_merge)"
      ],
      "metadata": {
        "id": "HoSS6O1IiPJ6"
      },
      "execution_count": null,
      "outputs": []
    },
    {
      "cell_type": "code",
      "source": [
        "evoked_1m = epochs_merge['Famous'].average()\n",
        "evoked_2m = epochs_merge['Scrambled'].average()\n",
        "evoked_3m = epochs_merge['Unfamiliar'].average()\n",
        "\n",
        "evoked_1m.comment = 'Famous'\n",
        "evoked_2m.comment = 'Scrambled'\n",
        "evoked_3m.comment = 'Unfamiliar'\n",
        "\n",
        "tmp = [evoked_1m, evoked_2m, evoked_3m]\n",
        "colors = 'red', 'blue', 'green'\n",
        "mne.viz.plot_evoked_topo(tmp, color = colors)"
      ],
      "metadata": {
        "id": "ahxXw6x1h_3K"
      },
      "execution_count": null,
      "outputs": []
    },
    {
      "cell_type": "code",
      "source": [
        "raw_fname = meg_path + '/derivatives_meg_derivatives_sub-14_ses-meg_meg_sub-14_ses-meg_task-facerecognition_run-05_proc-sss_meg.fif'\n",
        "\n",
        "raw = mne.io.read_raw_fif(raw_fname)\n",
        "events = mne.find_events(raw, stim_channel='STI101')  #just checking what stim_channel documenting what.\n",
        "#events = mne.find_events(raw, stim_channel='STI101', min_duration = 10 / raw.info['sfreq'])  #just checking what stim_channel documenting what.\n",
        "\n",
        "raw.load_data().pick_types(meg=True, stim=True).filter(0, 100, phase= 'zero-double').resample(500)\n",
        "epoch_run2 = mne.Epochs(raw, events, event_id, tmin, tmax,\n",
        "                    baseline=baseline,\n",
        "print(epoch_run5)             reject = reject, preload = True)\n",
        "print(epoch_run4)\n",
        "print(epoch_run3)\n",
        "print(epoch_run2)\n",
        "print(epoch_run1)"
      ],
      "metadata": {
        "id": "Ey7Bu3cEiXHO"
      },
      "execution_count": null,
      "outputs": []
    },
    {
      "cell_type": "code",
      "source": [
        "events = mne.find_events(raw, stim_channel='STI101', min_duration = 2 / raw.info['sfreq'])  #just checking what stim_channel documenting what."
      ],
      "metadata": {
        "id": "QkrEQNBmi4jz"
      },
      "execution_count": null,
      "outputs": []
    },
    {
      "cell_type": "code",
      "source": [
        "epochs_merge = mne.concatenate_epochs([epoch_run1, epoch_run2, epoch_run3. epoch_run4. epoch_run5])\n",
        "print(epochs_merge)"
      ],
      "metadata": {
        "id": "DfeFmNIwjH6U"
      },
      "execution_count": null,
      "outputs": []
    },
    {
      "cell_type": "code",
      "source": [
        "evoked_1m = epochs_merge['Famous'].average()\n",
        "evoked_2m = epochs_merge['Scrambled'].average()\n",
        "evoked_3m = epochs_merge['Unfamiliar'].average()\n",
        "\n",
        "evoked_1m.comment = 'Famous'\n",
        "evoked_2m.comment = 'Scrambled'\n",
        "evoked_3m.comment = 'Unfamiliar'\n",
        "\n",
        "tmp = [evoked_1m, evoked_2m, evoked_3m]\n",
        "colors = 'red', 'blue', 'green'\n",
        "mne.viz.plot_evoked_topo(tmp, color = colors)"
      ],
      "metadata": {
        "id": "xqXbhOqLjbhD"
      },
      "execution_count": null,
      "outputs": []
    },
    {
      "cell_type": "code",
      "source": [
        "raw_fname = meg_path + '/derivatives_meg_derivatives_sub-14_ses-meg_meg_sub-14_ses-meg_task-facerecognition_run-06_proc-sss_meg.fif'\n",
        "\n",
        "raw = mne.io.read_raw_fif(raw_fname)\n",
        "events = mne.find_events(raw, stim_channel='STI101')  #just checking what stim_channel documenting what.\n",
        "#events = mne.find_events(raw, stim_channel='STI101', min_duration = 10 / raw.info['sfreq'])  #just checking what stim_channel documenting what.\n",
        "\n",
        "raw.load_data().pick_types(meg=True, stim=True).filter(0, 100, phase= 'zero-double').resample(500)\n",
        "epoch_run2 = mne.Epochs(raw, events, event_id, tmin, tmax,\n",
        "print(epoch_run6)                    baseline=baseline,\n",
        "print(epoch_run5)             reject = reject, preload = True)\n",
        "print(epoch_run4)\n",
        "print(epoch_run3)\n",
        "print(epoch_run2)\n",
        "print(epoch_run1)"
      ],
      "metadata": {
        "id": "NOg_meyij8Nn"
      },
      "execution_count": null,
      "outputs": []
    },
    {
      "cell_type": "code",
      "source": [
        "events = mne.find_events(raw, stim_channel='STI101', min_duration = 2 / raw.info['sfreq'])  #just checking what stim_channel documenting what."
      ],
      "metadata": {
        "id": "oBne9gdbkK_l"
      },
      "execution_count": null,
      "outputs": []
    },
    {
      "cell_type": "code",
      "source": [
        "epochs_merge = mne.concatenate_epochs([epoch_run1, epoch_run2, epoch_run3. epoch_run4. epoch_run5. epoch_run6])\n",
        "print(epochs_merge)"
      ],
      "metadata": {
        "id": "CsWKX2IgkRq5"
      },
      "execution_count": null,
      "outputs": []
    },
    {
      "cell_type": "code",
      "source": [
        "evoked_1m = epochs_merge['Famous'].average()\n",
        "evoked_2m = epochs_merge['Scrambled'].average()\n",
        "evoked_3m = epochs_merge['Unfamiliar'].average()\n",
        "\n",
        "evoked_1m.comment = 'Famous'\n",
        "evoked_2m.comment = 'Scrambled'\n",
        "evoked_3m.comment = 'Unfamiliar'\n",
        "\n",
        "tmp = [evoked_1m, evoked_2m, evoked_3m]\n",
        "colors = 'red', 'blue', 'green'\n",
        "mne.viz.plot_evoked_topo(tmp, color = colors)"
      ],
      "metadata": {
        "id": "T7of8D2kjpIM"
      },
      "execution_count": null,
      "outputs": []
    },
    {
      "cell_type": "code",
      "source": [
        "epochs_merge.save('face-recognition-sub014-epo.fif')"
      ],
      "metadata": {
        "id": "stl8CwaBcBsf"
      },
      "execution_count": null,
      "outputs": []
    },
    {
      "cell_type": "code",
      "source": [
        "conds= ('Famous' ,'Scrambled', 'Unfamiliar')\n",
        "evks = dict(zip(conds, [evoked_1m, evoked_2m, evoked_3m]))\n",
        "#      ^^^^^^^^^^^^^^^^^^^^^^^^^^^^^^ this is equivalent to:\n",
        "# {'Famous': evoked_1m, 'Scrambled': evoked_2m,\n",
        "#  'Unfamiliar': evoked_3m}"
      ],
      "metadata": {
        "id": "sDfIkMsscNYx"
      },
      "execution_count": null,
      "outputs": []
    },
    {
      "cell_type": "code",
      "source": [
        "evks['Famous'].plot(picks='mag', spatial_colors=True, gfp=True)"
      ],
      "metadata": {
        "id": "cfVSWFjJcr0T"
      },
      "execution_count": null,
      "outputs": []
    },
    {
      "cell_type": "code",
      "source": [
        "times = np.linspace(0.05, 0.13, 5)\n",
        "evks['Famous'].plot_topomap(ch_type='mag', times=times, colorbar=True)"
      ],
      "metadata": {
        "id": "DsWS4BCicw27"
      },
      "execution_count": null,
      "outputs": []
    },
    {
      "cell_type": "code",
      "source": [
        "evoked_1m.plot_sensors(show_names=True)"
      ],
      "metadata": {
        "id": "YunAMzUzc48b"
      },
      "execution_count": null,
      "outputs": []
    },
    {
      "cell_type": "code",
      "source": [
        "mne.viz.plot_compare_evokeds(evks, picks='MEG2521',time_unit='ms')"
      ],
      "metadata": {
        "id": "i8DgOHivc9mX"
      },
      "execution_count": null,
      "outputs": []
    },
    {
      "cell_type": "code",
      "source": [
        "print(epochs_merge.get_data().shape)\n",
        "print(epochs_merge.get_data(picks='meg').shape)"
      ],
      "metadata": {
        "id": "FatWOyl7dCfS"
      },
      "execution_count": null,
      "outputs": []
    },
    {
      "cell_type": "code",
      "source": [
        "x1 = epochs_merge['Famous'].get_data(picks='meg')\n",
        "x2 = epochs_merge['Scrambled'].get_data(picks='meg')\n",
        "\n",
        "y1 = np.zeros(x1.shape[0])\n",
        "y2 = np.ones(x2.shape[0])\n",
        "\n",
        "X = np.concatenate((x1, x2), axis = 0)\n",
        "y = np.concatenate((y1, y2), axis = 0)\n",
        "\n",
        "print(x1.shape)\n",
        "print(x2.shape)\n",
        "print(X.shape)\n",
        "print(y.shape)"
      ],
      "metadata": {
        "id": "FuKKiMT5dTf2"
      },
      "execution_count": null,
      "outputs": []
    },
    {
      "cell_type": "code",
      "source": [
        "clf = make_pipeline(\n",
        "    StandardScaler(),\n",
        "    SVC(kernel='linear', gamma='auto')\n",
        ")\n",
        "\n",
        "time_decod = SlidingEstimator(\n",
        "    clf, n_jobs=None, scoring='roc_auc', verbose=True)\n",
        "# here we use cv=3 just for speed\n",
        "scores_ = cross_val_multiscore(time_decod, X, y, cv=3, n_jobs=None)\n",
        "\n",
        "# Mean scores across cross-validation splits\n",
        "scores_FS = np.mean(scores_, axis=0)\n",
        "\n",
        "# Plot\n",
        "fig, ax = plt.subplots()\n",
        "ax.plot(epochs_merge.times, scores_FS, label='score, logit')\n",
        "ax.axhline(.5, color='k', linestyle='--', label='chance')\n",
        "ax.set_xlabel('Times')\n",
        "ax.set_ylabel('AUC')  # Area Under the Curve\n",
        "ax.legend()\n",
        "ax.axvline(.0, color='k', linestyle='-')\n",
        "ax.set_title('Sensor space decoding')"
      ],
      "metadata": {
        "id": "cxhjlKdzdhJJ"
      },
      "execution_count": null,
      "outputs": []
    },
    {
      "cell_type": "code",
      "source": [
        "x1 = epochs_merge['Famous'].get_data(picks='meg')\n",
        "x2 = epochs_merge['Unfamiliar'].get_data(picks='meg')\n",
        "\n",
        "y1 = np.zeros(x1.shape[0])\n",
        "y2 = np.ones(x2.shape[0])\n",
        "\n",
        "X = np.concatenate((x1, x2), axis = 0)\n",
        "y = np.concatenate((y1, y2), axis = 0)\n",
        "\n",
        "print(x1.shape)\n",
        "print(x2.shape)\n",
        "print(X.shape)\n",
        "print(y.shape)"
      ],
      "metadata": {
        "id": "cZwETTMXeTZ7"
      },
      "execution_count": null,
      "outputs": []
    },
    {
      "cell_type": "code",
      "source": [
        "clf = make_pipeline(\n",
        "    StandardScaler(),\n",
        "    SVC(kernel='linear', gamma='auto')\n",
        ")\n",
        "\n",
        "time_decod = SlidingEstimator(\n",
        "    clf, n_jobs=None, scoring='roc_auc', verbose=True)\n",
        "# here we use cv=3 just for speed\n",
        "scores_ = cross_val_multiscore(time_decod, X, y, cv=3, n_jobs=None)\n",
        "\n",
        "# Mean scores across cross-validation splits\n",
        "scores_FU = np.mean(scores_, axis=0)\n",
        "\n",
        "# Plot\n",
        "fig, ax = plt.subplots()\n",
        "ax.plot(epochs_merge.times, scores_FU, label='score, logit')\n",
        "ax.axhline(.5, color='k', linestyle='--', label='chance')\n",
        "ax.set_xlabel('Times')\n",
        "ax.set_ylabel('AUC')  # Area Under the Curve\n",
        "ax.legend()\n",
        "ax.axvline(.0, color='k', linestyle='-')\n",
        "ax.set_title('Sensor space decoding')"
      ],
      "metadata": {
        "id": "OfcsMmzCe0-U"
      },
      "execution_count": null,
      "outputs": []
    },
    {
      "cell_type": "code",
      "source": [
        "with open('MVPA_scores_s016_SCV.npy', 'wb') as f:\n",
        "    np.save(f, scores_FS)\n",
        "    np.save(f, scores_FU)\n",
        "    np.save(f, epochs_merge.times)"
      ],
      "metadata": {
        "id": "oAKI_RJJe6Ff"
      },
      "execution_count": null,
      "outputs": []
    },
    {
      "cell_type": "code",
      "source": [
        "with open('MVPA_scores_s016_SCV.npy', 'rb') as f:\n",
        "    scores_FS_load = np.load(f)\n",
        "    scores_FU_load = np.load(f)\n",
        "    times = np.load(f)\n",
        "\n",
        "# Plot\n",
        "fig, ax = plt.subplots()\n",
        "ax.plot(times, scores_FS_load, label='score, Famouse vs Scrambled')\n",
        "ax.plot(times, scores_FU_load, label='score, Famouse vs Unfamiliar')\n",
        "ax.axhline(.5, color='k', linestyle='--', label='chance')\n",
        "ax.set_xlabel('Times')\n",
        "ax.set_ylabel('AUC')  # Area Under the Curve\n",
        "ax.legend()\n",
        "ax.axvline(.0, color='k', linestyle='-')\n",
        "ax.set_title('Sensor space decoding')"
      ],
      "metadata": {
        "id": "Af2VFb2QfJoX"
      },
      "execution_count": null,
      "outputs": []
    },
    {
      "cell_type": "code",
      "source": [],
      "metadata": {
        "id": "ZhIX45NNfNQp"
      },
      "execution_count": null,
      "outputs": []
    }
  ]
}